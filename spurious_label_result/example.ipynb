{
 "cells": [
  {
   "cell_type": "markdown",
   "metadata": {
    "hide_input": false
   },
   "source": [
    "# Install dependences"
   ]
  },
  {
   "cell_type": "code",
   "execution_count": 23,
   "metadata": {
    "ExecuteTime": {
     "end_time": "2020-08-24T14:42:41.550000+08:00",
     "start_time": "2020-08-24T06:42:37.473Z"
    }
   },
   "outputs": [],
   "source": [
    "import Pkg\n",
    "installed_list = keys(Pkg.installed())\n",
    "deps_list = Dict(\n",
    "    \"CSV\" => \"0.5.22\",\n",
    "    \"DataFrames\" => \"0.20.0\",\n",
    "    \"MLDatasets\" => \"0.4.0\",\n",
    "    \"JSON\" => \"0.21.0\",\n",
    "    \"BSON\" => \"0.2.5\",\n",
    "    \"ProgressMeter\" => \"1.2.0\"\n",
    ")\n",
    "for k in installed_list\n",
    "    delete!(deps_list, k)\n",
    "end\n",
    "for (key, value) in deps_list\n",
    "    @show key,value\n",
    "    if value==\"\"\n",
    "        Pkg.add(key)\n",
    "    else\n",
    "        Pkg.add(Pkg.PackageSpec(name=key, version=value))\n",
    "    end\n",
    "end\n"
   ]
  },
  {
   "cell_type": "code",
   "execution_count": 29,
   "metadata": {
    "ExecuteTime": {
     "end_time": "2020-08-24T14:55:18.355000+08:00",
     "start_time": "2020-08-24T06:55:14.284Z"
    }
   },
   "outputs": [
    {
     "data": {
      "text/plain": [
       "Dict{String,Union{Nothing, VersionNumber}} with 14 entries:\n",
       "  \"CSV\"            => v\"0.6.2\"\n",
       "  \"BSON\"           => v\"0.2.6\"\n",
       "  \"Test\"           => nothing\n",
       "  \"BenchmarkTools\" => v\"0.5.0\"\n",
       "  \"JuMP\"           => v\"0.19.2\"\n",
       "  \"MLDatasets\"     => v\"0.5.2\"\n",
       "  \"DelimitedFiles\" => nothing\n",
       "  \"JSON\"           => v\"0.21.0\"\n",
       "  \"Images\"         => v\"0.22.2\"\n",
       "  \"IJulia\"         => v\"1.21.2\"\n",
       "  \"ImageMagick\"    => v\"1.1.5\"\n",
       "  \"ProgressMeter\"  => v\"1.3.0\"\n",
       "  \"DataFrames\"     => v\"0.21.2\"\n",
       "  \"Gurobi\"         => v\"0.6.0\""
      ]
     },
     "execution_count": 29,
     "metadata": {},
     "output_type": "execute_result"
    }
   ],
   "source": [
    "import Pkg\n",
    "Pkg.installed()"
   ]
  },
  {
   "cell_type": "markdown",
   "metadata": {},
   "source": [
    "# Load verification tool"
   ]
  },
  {
   "cell_type": "code",
   "execution_count": 1,
   "metadata": {
    "ExecuteTime": {
     "end_time": "2020-11-20T09:27:34.176000+08:00",
     "start_time": "2020-11-20T01:27:24.039Z"
    }
   },
   "outputs": [
    {
     "data": {
      "text/plain": [
       "get_spurious_labels (generic function with 1 method)"
      ]
     },
     "execution_count": 1,
     "metadata": {},
     "output_type": "execute_result"
    }
   ],
   "source": [
    "include(\"../src/solve.jl\")"
   ]
  },
  {
   "cell_type": "markdown",
   "metadata": {},
   "source": [
    "# Evaluate network"
   ]
  },
  {
   "cell_type": "code",
   "execution_count": 2,
   "metadata": {
    "ExecuteTime": {
     "end_time": "2020-11-20T09:27:35.322000+08:00",
     "start_time": "2020-11-20T01:27:26.626Z"
    }
   },
   "outputs": [],
   "source": [
    "network = read_network_by_bson(\"../models/mnist24.bson\")\n",
    "nothing"
   ]
  },
  {
   "cell_type": "code",
   "execution_count": 11,
   "metadata": {
    "ExecuteTime": {
     "end_time": "2020-11-20T09:30:11.814000+08:00",
     "start_time": "2020-11-20T01:30:11.630Z"
    }
   },
   "outputs": [],
   "source": [
    "test_x,test_y = load_mnist_test_data_no_one_hot(:MNIST,:FC)\n",
    "nothing"
   ]
  },
  {
   "cell_type": "code",
   "execution_count": 4,
   "metadata": {
    "ExecuteTime": {
     "end_time": "2020-11-20T09:27:38.577000+08:00",
     "start_time": "2020-11-20T01:27:27.806Z"
    }
   },
   "outputs": [
    {
     "data": {
      "text/plain": [
       "0.966"
      ]
     },
     "execution_count": 4,
     "metadata": {},
     "output_type": "execute_result"
    }
   ],
   "source": [
    "evaluate_network(network,(test_x,test_y))"
   ]
  },
  {
   "cell_type": "markdown",
   "metadata": {},
   "source": [
    "# FC "
   ]
  },
  {
   "cell_type": "code",
   "execution_count": 12,
   "metadata": {
    "ExecuteTime": {
     "end_time": "2020-11-20T09:30:16.183000+08:00",
     "start_time": "2020-11-20T01:30:16.100Z"
    }
   },
   "outputs": [
    {
     "name": "stdout",
     "output_type": "stream",
     "text": [
      "no_adv = 95\n",
      "total_time = 0.055912804\n"
     ]
    }
   ],
   "source": [
    "for eps in 1:1\n",
    "   output_spurious_labels(network,(test_x,test_y),:FC,\n",
    "        range=1:100,\n",
    "        epsilon=Float(eps/255.0),\n",
    "        normalize=(Array{Float}([0.0]),Array{Float}([1.0])),\n",
    "        save=false)\n",
    "end"
   ]
  },
  {
   "cell_type": "markdown",
   "metadata": {},
   "source": [
    "# CNN"
   ]
  },
  {
   "cell_type": "code",
   "execution_count": 7,
   "metadata": {
    "ExecuteTime": {
     "end_time": "2020-11-20T09:29:09.559000+08:00",
     "start_time": "2020-11-20T01:29:09.380Z"
    }
   },
   "outputs": [],
   "source": [
    "network1 = read_network_by_bson(\"../models/neurify_convnet.bson\")\n",
    "nothing"
   ]
  },
  {
   "cell_type": "code",
   "execution_count": 13,
   "metadata": {
    "ExecuteTime": {
     "end_time": "2020-11-20T09:30:29.427000+08:00",
     "start_time": "2020-11-20T01:30:29.246Z"
    }
   },
   "outputs": [],
   "source": [
    "test_x1,test_y1 = load_mnist_test_data_no_one_hot(:MNIST,:CNN)\n",
    "nothing"
   ]
  },
  {
   "cell_type": "code",
   "execution_count": 9,
   "metadata": {
    "ExecuteTime": {
     "end_time": "2020-11-20T09:29:24.096000+08:00",
     "start_time": "2020-11-20T01:29:18.578Z"
    }
   },
   "outputs": [
    {
     "name": "stderr",
     "output_type": "stream",
     "text": [
      "\u001b[32mEvaluating the correctness of the network with dataset...100% Time: 0:00:05\u001b[39m\n"
     ]
    },
    {
     "data": {
      "text/plain": [
       "0.9886"
      ]
     },
     "execution_count": 9,
     "metadata": {},
     "output_type": "execute_result"
    }
   ],
   "source": [
    "evaluate_network(network1,(test_x1,test_y1))"
   ]
  },
  {
   "cell_type": "code",
   "execution_count": 19,
   "metadata": {
    "ExecuteTime": {
     "end_time": "2020-11-20T09:32:22.390000+08:00",
     "start_time": "2020-11-20T01:32:15.043Z"
    }
   },
   "outputs": [
    {
     "name": "stderr",
     "output_type": "stream",
     "text": [
      "\u001b[32m计算边界 ...100%|███████████████████████████████████████████| Time: 0:00:07\u001b[39m\n"
     ]
    },
    {
     "name": "stdout",
     "output_type": "stream",
     "text": [
      "no_adv = 98\n",
      "total_time = 7.342091377\n"
     ]
    },
    {
     "data": {
      "text/plain": [
       "7.342091377"
      ]
     },
     "execution_count": 19,
     "metadata": {},
     "output_type": "execute_result"
    }
   ],
   "source": [
    "eps1 = 1.0\n",
    "output_spurious_labels(network1,(test_x1,test_y1),:CNN,\n",
    "        range=1:100,\n",
    "        epsilon=Float(eps1/255.0),\n",
    "        normalize=(Array{Float}([0]),Array{Float}([1.0])),\n",
    "        save=false)"
   ]
  }
 ],
 "metadata": {
  "kernelspec": {
   "display_name": "Julia 1.3.1",
   "language": "julia",
   "name": "julia-1.3"
  },
  "language_info": {
   "file_extension": ".jl",
   "mimetype": "application/julia",
   "name": "julia",
   "version": "1.3.1"
  },
  "toc": {
   "base_numbering": 1,
   "nav_menu": {},
   "number_sections": true,
   "sideBar": true,
   "skip_h1_title": false,
   "title_cell": "Table of Contents",
   "title_sidebar": "Contents",
   "toc_cell": false,
   "toc_position": {},
   "toc_section_display": true,
   "toc_window_display": false
  }
 },
 "nbformat": 4,
 "nbformat_minor": 4
}
