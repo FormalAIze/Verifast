{
 "cells": [
  {
   "cell_type": "code",
   "execution_count": 18,
   "metadata": {
    "ExecuteTime": {
     "end_time": "2020-07-29T11:46:56.278725Z",
     "start_time": "2020-07-29T11:46:48.602252Z"
    }
   },
   "outputs": [],
   "source": [
    "import tensorflow as tf\n",
    "import numpy as np\n",
    "import json\n",
    "import h5py\n",
    "import keras\n",
    "from keras.models import Model,load_model,Sequential\n",
    "from keras.layers import Dense,Conv2D,MaxPool2D,ReLU,Flatten,Permute\n",
    "from keras.datasets import mnist,cifar10,fashion_mnist\n"
   ]
  },
  {
   "cell_type": "code",
   "execution_count": 3,
   "metadata": {
    "ExecuteTime": {
     "end_time": "2020-07-09T07:55:43.122733Z",
     "start_time": "2020-07-09T07:55:43.022608Z"
    }
   },
   "outputs": [
    {
     "name": "stdout",
     "output_type": "stream",
     "text": [
      "Model: \"sequential_2\"\n",
      "_________________________________________________________________\n",
      "Layer (type)                 Output Shape              Param #   \n",
      "=================================================================\n",
      "dense_4 (Dense)              (None, 24)                18840     \n",
      "_________________________________________________________________\n",
      "dense_5 (Dense)              (None, 24)                600       \n",
      "_________________________________________________________________\n",
      "dense_6 (Dense)              (None, 10)                250       \n",
      "=================================================================\n",
      "Total params: 19,690\n",
      "Trainable params: 19,690\n",
      "Non-trainable params: 0\n",
      "_________________________________________________________________\n"
     ]
    }
   ],
   "source": [
    "model = Sequential()\n",
    "model.add(Dense(units=24,activation='relu',input_shape=(784,)))\n",
    "model.add(Dense(units=24,activation='relu'))\n",
    "model.add(Dense(units=10,activation='softmax'))\n",
    "model.compile(optimizer='Adam',loss='categorical_crossentropy',metrics=['accuracy'])\n",
    "model.summary()\n"
   ]
  },
  {
   "cell_type": "code",
   "execution_count": 4,
   "metadata": {
    "ExecuteTime": {
     "end_time": "2020-07-09T07:56:05.358236Z",
     "start_time": "2020-07-09T07:56:05.354729Z"
    }
   },
   "outputs": [
    {
     "name": "stdout",
     "output_type": "stream",
     "text": [
      "dense_4\n",
      "dense_5\n",
      "dense_6\n"
     ]
    }
   ],
   "source": [
    "for layer in model.layers:\n",
    "    print(layer.name)"
   ]
  },
  {
   "cell_type": "code",
   "execution_count": 5,
   "metadata": {
    "ExecuteTime": {
     "end_time": "2020-07-09T07:56:53.140421Z",
     "start_time": "2020-07-09T07:56:50.759828Z"
    }
   },
   "outputs": [],
   "source": [
    "model.save(\"test.h5\")"
   ]
  },
  {
   "cell_type": "code",
   "execution_count": 3,
   "metadata": {
    "ExecuteTime": {
     "end_time": "2020-07-09T07:58:26.283837Z",
     "start_time": "2020-07-09T07:58:26.275830Z"
    }
   },
   "outputs": [
    {
     "name": "stdout",
     "output_type": "stream",
     "text": [
      "/model_weights\n",
      "dense_1\n",
      "****    model_weights/dense_1/dense_1\n",
      "/model_weights/dense_1/dense_1\n",
      "(2,)\n",
      "dense_2\n",
      "****    model_weights/dense_2/dense_2\n",
      "/model_weights/dense_2/dense_2\n",
      "(2,)\n",
      "dense_3\n",
      "****    model_weights/dense_3/dense_3\n",
      "/model_weights/dense_3/dense_3\n",
      "(2,)\n"
     ]
    }
   ],
   "source": [
    "f = h5py.File('eran_3_100.h5', 'r+')\n",
    "\n",
    "for group in f.keys(): #可以查看所有的主键\n",
    "    print(f[group].name)\n",
    "    group_read = f[group]\n",
    "    # 遍历该一级组下面的子组\n",
    "    for subgroup in group_read.keys():\n",
    "        print(subgroup)\n",
    "        # 根据一级组和二级组名获取其下面的dataset\n",
    "        dset_read = f[group + '/' + subgroup]\n",
    "        # 遍历该子组下所有的dataset\n",
    "        for dset in dset_read.keys():\n",
    "            # 获取dataset数据\n",
    "            dset1 = f[group + '/' + subgroup + '/' + dset]\n",
    "            print('****   ',(group + '/' + subgroup + '/' + dset))\n",
    "            print(dset1.name)\n",
    "            data = np.array(dset1)\n",
    "            print(data.shape)\n",
    "            # weight = data[..., 0]\n",
    "            # bias = data[..., 1]"
   ]
  },
  {
   "cell_type": "code",
   "execution_count": 5,
   "metadata": {
    "ExecuteTime": {
     "end_time": "2020-07-09T08:09:58.046835Z",
     "start_time": "2020-07-09T08:09:58.038830Z"
    }
   },
   "outputs": [
    {
     "name": "stdout",
     "output_type": "stream",
     "text": [
      "<KeysViewHDF5 ['fc1_bias', 'fc1_weight', 'fc2_bias', 'fc2_weight', 'fc3_bias', 'fc3_weight', 'net_struct']>\n"
     ]
    },
    {
     "name": "stderr",
     "output_type": "stream",
     "text": [
      "/home/ZhangZhaoDi/verifier/tensorflow2/env/lib/python3.7/site-packages/ipykernel_launcher.py:8: H5pyDeprecationWarning: The default file mode will change to 'r' (read-only) in h5py 3.0. To suppress this warning, pass the mode you need to h5py.File(), or set the global default h5.get_config().default_file_mode, or set the environment variable H5PY_DEFAULT_READONLY=1. Available modes are: 'r', 'r+', 'w', 'w-'/'x', 'a'. See the docs for details.\n",
      "  \n"
     ]
    },
    {
     "data": {
      "text/plain": [
       "(24,)"
      ]
     },
     "execution_count": 5,
     "metadata": {},
     "output_type": "execute_result"
    }
   ],
   "source": [
    "# import scipy.io as sio\n",
    "\n",
    "dataFile = 'mnist24.mat'\n",
    "# data = sio.loadmat(dataFile)\n",
    "# data\n",
    "\n",
    "import h5py\n",
    "mat = h5py.File(dataFile)\n",
    "# mat文件里可能有多个cell，各对应着一个dataset\n",
    "# 可以用keys方法查看cell的名字\n",
    "print(mat.keys())\n",
    "# 可以用values方法查看各个cell的信息\n",
    "# print(mat.values())\n",
    "# 可以用shape查看维度信息\n",
    "# print(mat['your_dataset_name'].shape)\n",
    "# 注意，这里看到的shape信息与你在matlab打开的不同\n",
    "# 这里的矩阵是matlab打开时矩阵的转置\n",
    "# 所以，我们需要将它转置回来\n",
    "\n",
    "mat_t = np.transpose(mat['fc1_bias'])\n",
    "mat_t[0].shape\n"
   ]
  },
  {
   "cell_type": "code",
   "execution_count": 21,
   "metadata": {
    "ExecuteTime": {
     "end_time": "2020-07-09T08:11:31.673566Z",
     "start_time": "2020-07-09T08:11:31.661546Z"
    }
   },
   "outputs": [],
   "source": [
    "dense_1_w = 'model_weights/dense_4/dense_4/kernel:0'\n",
    "dense_1_b = 'model_weights/dense_4/dense_4/bias:0'\n",
    "dense_2_w = 'model_weights/dense_5/dense_5/kernel:0'\n",
    "dense_2_b = 'model_weights/dense_5/dense_5/bias:0'\n",
    "dense_3_w = 'model_weights/dense_6/dense_6/kernel:0'\n",
    "dense_3_b = 'model_weights/dense_6/dense_6/bias:0'\n",
    "\n",
    "dtdense_1_w = np.transpose(mat['fc1_weight'])\n",
    "dtdense_1_b = np.transpose(mat['fc1_bias'])[0]\n",
    "dtdense_2_w = np.transpose(mat['fc2_weight'])\n",
    "dtdense_2_b = np.transpose(mat['fc2_bias'])[0]\n",
    "dtdense_3_w = np.transpose(mat['fc3_weight'])\n",
    "dtdense_3_b = np.transpose(mat['fc3_bias'])[0]\n",
    "\n",
    "del f[dense_1_w]\n",
    "del f[dense_1_b]\n",
    "del f[dense_2_w]\n",
    "del f[dense_2_b]\n",
    "del f[dense_3_w]\n",
    "del f[dense_3_b]\n",
    "\n",
    "f.create_dataset(dense_1_w, data=dtdense_1_w)\n",
    "f.create_dataset(dense_1_b, data=dtdense_1_b)\n",
    "f.create_dataset(dense_2_w, data=dtdense_2_w)\n",
    "f.create_dataset(dense_2_b, data=dtdense_2_b)\n",
    "f.create_dataset(dense_3_w, data=dtdense_3_w)\n",
    "f.create_dataset(dense_3_b, data=dtdense_3_b)\n",
    "f.close()\n"
   ]
  },
  {
   "cell_type": "code",
   "execution_count": 7,
   "metadata": {
    "ExecuteTime": {
     "end_time": "2020-07-09T08:12:23.505470Z",
     "start_time": "2020-07-09T08:12:23.499952Z"
    }
   },
   "outputs": [],
   "source": [
    "def preprocessing_data():\n",
    "    (x_train, y_train), (x_test, y_test) = mnist.load_data()\n",
    "    print(x_train.shape)\n",
    "     # 归一化\n",
    "    x_train = x_train / 255\n",
    "    x_test = x_test / 255\n",
    "    x_train = x_train.reshape(60000,784) # 将图片摊平，变成向量\n",
    "    x_test = x_test.reshape(10000,784) # 对测试集进行同样的处理\n",
    "    # 标签激活\n",
    "    y_train = keras.utils.to_categorical(y_train, 10)\n",
    "    y_test = keras.utils.to_categorical(y_test, 10)\n",
    "    return x_train, y_train, x_test, y_test"
   ]
  },
  {
   "cell_type": "code",
   "execution_count": 7,
   "metadata": {
    "ExecuteTime": {
     "end_time": "2020-07-09T08:13:09.323453Z",
     "start_time": "2020-07-09T08:13:05.443702Z"
    }
   },
   "outputs": [
    {
     "name": "stdout",
     "output_type": "stream",
     "text": [
      "(60000, 28, 28)\n",
      "313/313 [==============================] - 0s 454us/step - loss: 0.1316 - accuracy: 0.9660\n",
      "LOSS: 0.13155309855937958 ACCU: 0.9660000205039978\n"
     ]
    }
   ],
   "source": [
    "x_train, y_train, x_test, y_test = preprocessing_data()\n",
    "m = load_model(\"test.h5\")\n",
    "score = m.evaluate(x_test,y_test)\n",
    "print(\"LOSS:\",score[0],\"ACCU:\",score[1])"
   ]
  },
  {
   "cell_type": "code",
   "execution_count": 30,
   "metadata": {},
   "outputs": [
    {
     "data": {
      "text/plain": [
       "dict_keys(['__header__', '__version__', '__globals__', 'fc1/weight', 'fc1/bias', 'fc2/weight', 'fc2/bias', 'fc3/weight', 'fc3/bias', 'fc4/weight', 'fc4/bias', 'fc5/weight', 'fc5/bias', 'fc6/weight', 'fc6/bias'])"
      ]
     },
     "execution_count": 30,
     "metadata": {},
     "output_type": "execute_result"
    }
   ],
   "source": [
    "import h5py\n",
    "import scipy.io as sio\n",
    "dataFile = 'eran_mnist_relu_6_100.mat'\n",
    "# mat = h5py.File(dataFile)\n",
    "# print(mat.keys())\n",
    "mat = sio.loadmat(dataFile)\n",
    "mat.keys()"
   ]
  },
  {
   "cell_type": "code",
   "execution_count": 20,
   "metadata": {},
   "outputs": [
    {
     "data": {
      "text/plain": [
       "(100,)"
      ]
     },
     "execution_count": 20,
     "metadata": {},
     "output_type": "execute_result"
    }
   ],
   "source": [
    "mat['fc1/bias'][0].shape"
   ]
  },
  {
   "cell_type": "code",
   "execution_count": 29,
   "metadata": {},
   "outputs": [
    {
     "name": "stdout",
     "output_type": "stream",
     "text": [
      "Model: \"sequential_13\"\n",
      "_________________________________________________________________\n",
      "Layer (type)                 Output Shape              Param #   \n",
      "=================================================================\n",
      "dense_13 (Dense)             (None, 100)               78500     \n",
      "_________________________________________________________________\n",
      "dense_14 (Dense)             (None, 100)               10100     \n",
      "_________________________________________________________________\n",
      "dense_15 (Dense)             (None, 100)               10100     \n",
      "_________________________________________________________________\n",
      "dense_16 (Dense)             (None, 100)               10100     \n",
      "_________________________________________________________________\n",
      "dense_17 (Dense)             (None, 100)               10100     \n",
      "_________________________________________________________________\n",
      "dense_18 (Dense)             (None, 10)                1010      \n",
      "=================================================================\n",
      "Total params: 119,910\n",
      "Trainable params: 119,910\n",
      "Non-trainable params: 0\n",
      "_________________________________________________________________\n",
      "dense_13\n",
      "dense_14\n",
      "dense_15\n",
      "dense_16\n",
      "dense_17\n",
      "dense_18\n"
     ]
    }
   ],
   "source": [
    "model = Sequential()\n",
    "model.add(Dense(units=100,activation='relu',input_shape=(784,)))\n",
    "model.add(Dense(units=100,activation='relu'))\n",
    "model.add(Dense(units=100,activation='relu'))\n",
    "model.add(Dense(units=100,activation='relu'))\n",
    "model.add(Dense(units=100,activation='relu'))\n",
    "model.add(Dense(units=10,activation='relu'))\n",
    "model.compile(optimizer='Adam',loss='categorical_crossentropy',metrics=['accuracy'])\n",
    "model.summary()\n",
    "model.save(\"eran_6_100.h5\")\n",
    "for layer in model.layers:\n",
    "    print(layer.name)"
   ]
  },
  {
   "cell_type": "code",
   "execution_count": 31,
   "metadata": {},
   "outputs": [
    {
     "ename": "KeyError",
     "evalue": "'fc0/weight'",
     "output_type": "error",
     "traceback": [
      "\u001b[0;31m---------------------------------------------------------------------------\u001b[0m",
      "\u001b[0;31mKeyError\u001b[0m                                  Traceback (most recent call last)",
      "\u001b[0;32m<ipython-input-31-3401074ef627>\u001b[0m in \u001b[0;36m<module>\u001b[0;34m\u001b[0m\n\u001b[1;32m      9\u001b[0m     \u001b[0mdense_w\u001b[0m \u001b[0;34m=\u001b[0m \u001b[0mn\u001b[0m\u001b[0;34m+\u001b[0m\u001b[0;34m'kernel:0'\u001b[0m\u001b[0;34m\u001b[0m\u001b[0;34m\u001b[0m\u001b[0m\n\u001b[1;32m     10\u001b[0m     \u001b[0mdense_b\u001b[0m \u001b[0;34m=\u001b[0m \u001b[0mn\u001b[0m\u001b[0;34m+\u001b[0m\u001b[0;34m'bias:0'\u001b[0m\u001b[0;34m\u001b[0m\u001b[0;34m\u001b[0m\u001b[0m\n\u001b[0;32m---> 11\u001b[0;31m     \u001b[0mdtdense_w\u001b[0m \u001b[0;34m=\u001b[0m \u001b[0mmat\u001b[0m\u001b[0;34m[\u001b[0m\u001b[0;34m'fc'\u001b[0m\u001b[0;34m+\u001b[0m\u001b[0mstr\u001b[0m\u001b[0;34m(\u001b[0m\u001b[0mi\u001b[0m\u001b[0;34m)\u001b[0m\u001b[0;34m+\u001b[0m\u001b[0;34m'/weight'\u001b[0m\u001b[0;34m]\u001b[0m\u001b[0;34m\u001b[0m\u001b[0;34m\u001b[0m\u001b[0m\n\u001b[0m\u001b[1;32m     12\u001b[0m     \u001b[0mdtdense_b\u001b[0m \u001b[0;34m=\u001b[0m \u001b[0mmat\u001b[0m\u001b[0;34m[\u001b[0m\u001b[0;34m'fc'\u001b[0m\u001b[0;34m+\u001b[0m\u001b[0mstr\u001b[0m\u001b[0;34m(\u001b[0m\u001b[0mi\u001b[0m\u001b[0;34m)\u001b[0m\u001b[0;34m+\u001b[0m\u001b[0;34m'/bias'\u001b[0m\u001b[0;34m]\u001b[0m\u001b[0;34m[\u001b[0m\u001b[0;36m0\u001b[0m\u001b[0;34m]\u001b[0m\u001b[0;34m\u001b[0m\u001b[0;34m\u001b[0m\u001b[0m\n\u001b[1;32m     13\u001b[0m \u001b[0;34m\u001b[0m\u001b[0m\n",
      "\u001b[0;31mKeyError\u001b[0m: 'fc0/weight'"
     ]
    }
   ],
   "source": [
    "f = h5py.File('eran_6_100.h5', 'r+')\n",
    "dd = ['model_weights/dense_13/dense_13/'\n",
    "     ,'model_weights/dense_14/dense_14/'\n",
    "     ,'model_weights/dense_15/dense_15/'\n",
    "     ,'model_weights/dense_16/dense_16/'\n",
    "     ,'model_weights/dense_17/dense_17/'\n",
    "     ,'model_weights/dense_18/dense_18/']\n",
    "for i,n in enumerate(dd):\n",
    "    dense_w = n+'kernel:0'\n",
    "    dense_b = n+'bias:0'\n",
    "    dtdense_w = mat['fc'+str(i+1)+'/weight']\n",
    "    dtdense_b = mat['fc'+str(i+1)+'/bias'][0]\n",
    "    \n",
    "    del f[dense_w]\n",
    "    del f[dense_b]\n",
    "    f.create_dataset(dense_w, data=dtdense_w)\n",
    "    f.create_dataset(dense_b, data=dtdense_b)\n",
    "\n",
    "f.close()"
   ]
  },
  {
   "cell_type": "code",
   "execution_count": 8,
   "metadata": {},
   "outputs": [
    {
     "name": "stdout",
     "output_type": "stream",
     "text": [
      "(60000, 28, 28)\n",
      "10000/10000 [==============================] - 0s 15us/step\n",
      "LOSS: 0.5404417549610138 ACCU: 0.9654\n"
     ]
    }
   ],
   "source": [
    "x_train, y_train, x_test, y_test = preprocessing_data()\n",
    "m = load_model(\"eran_3_100.h5\")\n",
    "score = m.evaluate(x_test,y_test)\n",
    "print(\"LOSS:\",score[0],\"ACCU:\",score[1])"
   ]
  },
  {
   "cell_type": "code",
   "execution_count": 26,
   "metadata": {
    "ExecuteTime": {
     "end_time": "2020-07-29T14:55:50.869042Z",
     "start_time": "2020-07-29T14:55:50.679888Z"
    }
   },
   "outputs": [
    {
     "name": "stdout",
     "output_type": "stream",
     "text": [
      "Model: \"sequential_12\"\n",
      "_________________________________________________________________\n",
      "Layer (type)                 Output Shape              Param #   \n",
      "=================================================================\n",
      "conv2d_23 (Conv2D)           (None, 14, 14, 16)        272       \n",
      "_________________________________________________________________\n",
      "conv2d_24 (Conv2D)           (None, 7, 7, 32)          8224      \n",
      "_________________________________________________________________\n",
      "permute_6 (Permute)          (None, 32, 7, 7)          0         \n",
      "_________________________________________________________________\n",
      "flatten_7 (Flatten)          (None, 1568)              0         \n",
      "_________________________________________________________________\n",
      "dense_11 (Dense)             (None, 100)               156900    \n",
      "_________________________________________________________________\n",
      "dense_12 (Dense)             (None, 10)                1010      \n",
      "=================================================================\n",
      "Total params: 166,406\n",
      "Trainable params: 166,406\n",
      "Non-trainable params: 0\n",
      "_________________________________________________________________\n"
     ]
    }
   ],
   "source": [
    "\n",
    "\n",
    "input_shape = (28,28,1)\n",
    "model = Sequential()\n",
    "model.add(Conv2D(16, (4, 4), strides=(2, 2), padding=\"same\", activation='relu', input_shape=input_shape))\n",
    "model.add(Conv2D(32, (4, 4), strides=(2, 2), padding=\"same\", activation='relu'))\n",
    "model.add(Permute((3,1,2)))\n",
    "model.add(Flatten())\n",
    "model.add(Dense(units=100,activation='relu'))\n",
    "model.add(Dense(units=10,activation='softmax'))\n",
    "model.compile(optimizer='Adam',loss='categorical_crossentropy',metrics=['accuracy'])\n",
    "model.summary()\n"
   ]
  },
  {
   "cell_type": "code",
   "execution_count": 27,
   "metadata": {
    "ExecuteTime": {
     "end_time": "2020-07-29T14:57:58.879367Z",
     "start_time": "2020-07-29T14:57:43.263850Z"
    }
   },
   "outputs": [
    {
     "name": "stdout",
     "output_type": "stream",
     "text": [
      "(60000, 28, 28)\n",
      "Train on 60000 samples, validate on 10000 samples\n",
      "Epoch 1/2\n",
      "60000/60000 [==============================] - 3s 55us/step - loss: 0.3084 - accuracy: 0.9089 - val_loss: 0.1140 - val_accuracy: 0.9629\n",
      "Epoch 2/2\n",
      "60000/60000 [==============================] - 3s 49us/step - loss: 0.0898 - accuracy: 0.9732 - val_loss: 0.0655 - val_accuracy: 0.9798\n"
     ]
    },
    {
     "data": {
      "text/plain": [
       "<keras.callbacks.callbacks.History at 0x7f5ec6a89f10>"
      ]
     },
     "execution_count": 27,
     "metadata": {},
     "output_type": "execute_result"
    }
   ],
   "source": [
    "\n",
    "def preprocessing_data2():\n",
    "    (x_train, y_train), (x_test, y_test) = mnist.load_data()\n",
    "    print(x_train.shape)\n",
    "     # 归一化\n",
    "    x_train = x_train / 255\n",
    "    x_test = x_test / 255\n",
    "    x_train = x_train.reshape(60000,28,28,1)\n",
    "    x_test = x_test.reshape(10000,28,28,1)\n",
    "    # 标签激活\n",
    "    y_train = keras.utils.to_categorical(y_train, 10)\n",
    "    y_test = keras.utils.to_categorical(y_test, 10)\n",
    "    return x_train, y_train, x_test, y_test\n",
    "\n",
    "x_train, y_train, x_test, y_test = preprocessing_data2()\n",
    "model.fit(x_train,y_train,batch_size=128,epochs=2,validation_data=(x_test,y_test))"
   ]
  },
  {
   "cell_type": "code",
   "execution_count": 28,
   "metadata": {
    "ExecuteTime": {
     "end_time": "2020-07-29T14:58:04.468425Z",
     "start_time": "2020-07-29T14:58:04.322738Z"
    }
   },
   "outputs": [],
   "source": [
    "model.save(\"check_convnet.h5\")"
   ]
  },
  {
   "cell_type": "code",
   "execution_count": 23,
   "metadata": {},
   "outputs": [
    {
     "data": {
      "text/plain": [
       "(None, 7, 7, 32)"
      ]
     },
     "execution_count": 23,
     "metadata": {},
     "output_type": "execute_result"
    }
   ],
   "source": [
    "model.layers[1].output_shape"
   ]
  },
  {
   "cell_type": "code",
   "execution_count": 36,
   "metadata": {},
   "outputs": [],
   "source": [
    "a=np.array([[1,2,3,4],[5,6,7,8]])"
   ]
  },
  {
   "cell_type": "code",
   "execution_count": 37,
   "metadata": {},
   "outputs": [
    {
     "data": {
      "text/plain": [
       "[[1, 2, 3, 4], [5, 6, 7, 8]]"
      ]
     },
     "execution_count": 37,
     "metadata": {},
     "output_type": "execute_result"
    }
   ],
   "source": [
    "a.tolist()"
   ]
  },
  {
   "cell_type": "code",
   "execution_count": null,
   "metadata": {},
   "outputs": [],
   "source": []
  }
 ],
 "metadata": {
  "hide_input": false,
  "kernelspec": {
   "display_name": "tf1.15",
   "language": "python",
   "name": "exp"
  },
  "language_info": {
   "codemirror_mode": {
    "name": "ipython",
    "version": 3
   },
   "file_extension": ".py",
   "mimetype": "text/x-python",
   "name": "python",
   "nbconvert_exporter": "python",
   "pygments_lexer": "ipython3",
   "version": "3.7.6"
  },
  "toc": {
   "base_numbering": 1,
   "nav_menu": {},
   "number_sections": true,
   "sideBar": true,
   "skip_h1_title": false,
   "title_cell": "Table of Contents",
   "title_sidebar": "Contents",
   "toc_cell": false,
   "toc_position": {},
   "toc_section_display": true,
   "toc_window_display": false
  }
 },
 "nbformat": 4,
 "nbformat_minor": 4
}
